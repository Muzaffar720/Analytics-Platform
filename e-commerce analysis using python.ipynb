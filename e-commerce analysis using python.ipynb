{
 "cells": [
  {
   "cell_type": "code",
   "execution_count": 1,
   "id": "23aa97fe-00c4-4483-a76e-6543cca02317",
   "metadata": {},
   "outputs": [],
   "source": [
    "import pandas as pd\n",
    "\n",
    "import plotly.express as px\n",
    "import plotly.graph_objects as go\n",
    "import plotly.io as pio\n",
    "import plotly.colors as colors\n",
    "pio.templates.default = 'plotly_white'"
   ]
  },
  {
   "cell_type": "code",
   "execution_count": 2,
   "id": "7b278868-8fa5-4f82-9499-ee594e02d4c5",
   "metadata": {},
   "outputs": [
    {
     "ename": "TypeError",
     "evalue": "read_csv() takes 1 positional argument but 2 were given",
     "output_type": "error",
     "traceback": [
      "\u001b[1;31m---------------------------------------------------------------------------\u001b[0m",
      "\u001b[1;31mTypeError\u001b[0m                                 Traceback (most recent call last)",
      "Cell \u001b[1;32mIn[2], line 1\u001b[0m\n\u001b[1;32m----> 1\u001b[0m data \u001b[38;5;241m=\u001b[39m pd\u001b[38;5;241m.\u001b[39mread_csv(\u001b[38;5;124m'\u001b[39m\u001b[38;5;124mD:/New folder/Sample - Superstore.csv\u001b[39m\u001b[38;5;124m'\u001b[39m, \u001b[38;5;124m'\u001b[39m\u001b[38;5;124mlatin-1\u001b[39m\u001b[38;5;124m'\u001b[39m)\n",
      "\u001b[1;31mTypeError\u001b[0m: read_csv() takes 1 positional argument but 2 were given"
     ]
    }
   ],
   "source": [
    "data = pd.read_csv('D:/New folder/Sample - Superstore.csv', encoding= 'latin-1')"
   ]
  },
  {
   "cell_type": "code",
   "execution_count": null,
   "id": "2806a961-22d7-44d8-bae7-53e3c6502249",
   "metadata": {},
   "outputs": [],
   "source": [
    "data.head()"
   ]
  },
  {
   "cell_type": "code",
   "execution_count": null,
   "id": "df667e09-552d-4ade-a44f-ef731ef285e2",
   "metadata": {},
   "outputs": [],
   "source": [
    "data.describe()"
   ]
  },
  {
   "cell_type": "code",
   "execution_count": null,
   "id": "585904d8-7b41-4924-ab0e-090c25ea8e02",
   "metadata": {},
   "outputs": [],
   "source": [
    "data.info()"
   ]
  },
  {
   "cell_type": "markdown",
   "id": "a6db8afb-aa90-4b95-9265-3fc79764a6e8",
   "metadata": {},
   "source": [
    "# Converting date columns"
   ]
  },
  {
   "cell_type": "code",
   "execution_count": null,
   "id": "ad0b7cec-4c95-4e79-a9b5-960e5b1fe7d8",
   "metadata": {},
   "outputs": [],
   "source": [
    "data['Order Date'] = pd.to_datetime(data['Order Date'])"
   ]
  },
  {
   "cell_type": "code",
   "execution_count": null,
   "id": "348dbb64-48fc-424f-ad95-1891644d3579",
   "metadata": {},
   "outputs": [],
   "source": [
    "data['Ship Date'] = pd.to_datetime(data['Ship Date'])"
   ]
  },
  {
   "cell_type": "code",
   "execution_count": null,
   "id": "9a9e63fb-442b-4151-9839-08fdb2b526cb",
   "metadata": {},
   "outputs": [],
   "source": [
    "data.info()"
   ]
  },
  {
   "cell_type": "code",
   "execution_count": null,
   "id": "065c9418-9785-43f4-b6c4-90f3178f796b",
   "metadata": {},
   "outputs": [],
   "source": [
    "data.head()"
   ]
  },
  {
   "cell_type": "code",
   "execution_count": null,
   "id": "03db9f4b-f961-4604-a05f-85f16a66eccb",
   "metadata": {},
   "outputs": [],
   "source": [
    "data['Order Month'] = data['Order Date'].dt.month\n",
    "data['Order Year'] = data['Order Date'].dt.year\n",
    "data['Order Day of Week'] = data['Order Date'].dt.dayofweek"
   ]
  },
  {
   "cell_type": "code",
   "execution_count": null,
   "id": "32f1c79d-5034-489c-bfe2-a38f3810312a",
   "metadata": {},
   "outputs": [],
   "source": [
    "data.head()"
   ]
  },
  {
   "cell_type": "markdown",
   "id": "c00ee01b-077c-4135-8964-18a8250549fe",
   "metadata": {},
   "source": [
    "# Monthly sales analysis"
   ]
  },
  {
   "cell_type": "code",
   "execution_count": null,
   "id": "e6407210-0ab2-414b-8a45-4e127a7ed95c",
   "metadata": {},
   "outputs": [],
   "source": [
    "sales_month = data.groupby('Order Month')['Sales'].sum().reset_index()"
   ]
  },
  {
   "cell_type": "code",
   "execution_count": null,
   "id": "f1e59d09-ec2c-4a0b-84c3-cbeb015b4511",
   "metadata": {},
   "outputs": [],
   "source": [
    "sales_month"
   ]
  },
  {
   "cell_type": "code",
   "execution_count": null,
   "id": "cc1de33f-93b8-4609-bb61-83b43263efa4",
   "metadata": {},
   "outputs": [],
   "source": [
    "fig = px.line(sales_month, \n",
    "              x='Order Month', \n",
    "              y='Sales', \n",
    "              title='Monthly Sales Analysis')\n",
    "fig.show()"
   ]
  },
  {
   "cell_type": "markdown",
   "id": "298ebb34-ee9f-4402-a9d7-48c9aafff5b7",
   "metadata": {},
   "source": [
    "# Sales by Category"
   ]
  },
  {
   "cell_type": "code",
   "execution_count": null,
   "id": "5bee674b-ddb4-483c-baa6-d91b78bbb1f3",
   "metadata": {},
   "outputs": [],
   "source": [
    "sales_category = data.groupby('Category')['Sales'].sum().reset_index()"
   ]
  },
  {
   "cell_type": "code",
   "execution_count": null,
   "id": "6f64945a-299e-4d5c-b7d1-785fd5f74168",
   "metadata": {},
   "outputs": [],
   "source": [
    "sales_category"
   ]
  },
  {
   "cell_type": "code",
   "execution_count": null,
   "id": "10bed860-52a8-4c08-8f57-f34b43fd854b",
   "metadata": {},
   "outputs": [],
   "source": [
    "fig = px.pie(sales_category, \n",
    "             values='Sales', \n",
    "             names='Category', \n",
    "             hole=0.4, \n",
    "             color_discrete_sequence=px.colors.qualitative.Pastel)\n",
    "\n",
    "fig.update_traces(textposition='inside', textinfo='percent+label')\n",
    "fig.update_layout(title_text='Sales Analysis by Category', title_font=dict(size=22))\n",
    "\n",
    "fig.show()"
   ]
  },
  {
   "cell_type": "markdown",
   "id": "3a68d84f-a49d-4bc1-92e7-0b66648d521e",
   "metadata": {},
   "source": [
    "# Sales analysis by sub category"
   ]
  },
  {
   "cell_type": "code",
   "execution_count": null,
   "id": "92b0b2c8-d87f-4b5e-bded-b3e7d1430da5",
   "metadata": {},
   "outputs": [],
   "source": [
    "sales_subcategory = data.groupby('Sub-Category')['Sales'].sum().reset_index()"
   ]
  },
  {
   "cell_type": "code",
   "execution_count": null,
   "id": "e5cf3cc1-afd7-48d2-b669-be56080d1da9",
   "metadata": {},
   "outputs": [],
   "source": [
    "sales_subcategory "
   ]
  },
  {
   "cell_type": "code",
   "execution_count": null,
   "id": "447c79c3-8e34-4bf3-b010-345cb870128f",
   "metadata": {},
   "outputs": [],
   "source": [
    "fig = px.bar(sales_subcategory, x= 'Sub-Category', y = 'Sales', title ='Sales analysis by sub category')\n",
    "\n",
    "fig.show()"
   ]
  },
  {
   "cell_type": "markdown",
   "id": "b1883ea3-8231-415b-a188-c86469aef38d",
   "metadata": {},
   "source": [
    "# Monthly profit analysis"
   ]
  },
  {
   "cell_type": "code",
   "execution_count": null,
   "id": "62ce2ba3-9787-4bbc-a11e-6ce34c17da4a",
   "metadata": {},
   "outputs": [],
   "source": [
    "data.head()"
   ]
  },
  {
   "cell_type": "code",
   "execution_count": null,
   "id": "24c3e177-392c-44e9-b94c-e6d893439e5d",
   "metadata": {},
   "outputs": [],
   "source": [
    "profit_month= data.groupby('Order Month')['Profit'].sum().reset_index()"
   ]
  },
  {
   "cell_type": "code",
   "execution_count": null,
   "id": "2a8d0faf-5e4e-421e-9979-7f1e15f7597a",
   "metadata": {},
   "outputs": [],
   "source": [
    "profit_month"
   ]
  },
  {
   "cell_type": "code",
   "execution_count": null,
   "id": "42fcd073-9ad2-495f-9443-70ba9e7357ba",
   "metadata": {},
   "outputs": [],
   "source": [
    "fig=px.bar(profit_month, x='Order Month', y ='Profit', title = 'Monthly profit analysis')\n",
    "\n",
    "fig.show()"
   ]
  },
  {
   "cell_type": "markdown",
   "id": "ae42e2b7-986f-4c65-8713-e64b9e102a6c",
   "metadata": {},
   "source": [
    "# Profit by category"
   ]
  },
  {
   "cell_type": "code",
   "execution_count": null,
   "id": "36885bf3-b79b-43fc-ac62-0cdc040ff28b",
   "metadata": {},
   "outputs": [],
   "source": [
    "profit_category= data.groupby('Category')['Profit'].sum().reset_index()"
   ]
  },
  {
   "cell_type": "code",
   "execution_count": null,
   "id": "f64edf16-e9b9-4c3b-9cc7-ff126d559650",
   "metadata": {},
   "outputs": [],
   "source": [
    "profit_category"
   ]
  },
  {
   "cell_type": "code",
   "execution_count": null,
   "id": "0651c82a-96eb-4c94-8819-ff9b6dbfe596",
   "metadata": {},
   "outputs": [],
   "source": [
    "fig = px.pie(profit_category,\n",
    "             values='Profit',\n",
    "             names='Category',\n",
    "             hole=0.4,\n",
    "             color_discrete_sequence=px.colors.qualitative.Pastel)\n",
    "\n",
    "fig.update_traces(textposition='inside', textinfo='percent+label')\n",
    "fig.update_layout(title_text='Profit Analysis by Category', title_font=dict(size=24))\n",
    "\n",
    "fig.show()"
   ]
  },
  {
   "cell_type": "markdown",
   "id": "74e079e9-40ce-49c5-8924-223c50b1e7ed",
   "metadata": {},
   "source": [
    "# Profit by sub category"
   ]
  },
  {
   "cell_type": "code",
   "execution_count": null,
   "id": "dce5e0af-6378-4a6e-97f9-5527978bc1b9",
   "metadata": {},
   "outputs": [],
   "source": [
    "profit_by_subcategory = data.groupby('Sub-Category')['Profit'].sum().reset_index()\n",
    "fig = px.bar(profit_by_subcategory, x='Sub-Category', \n",
    "             y='Profit', \n",
    "             title='Profit Analysis by Sub-Category')\n",
    "fig.show()"
   ]
  },
  {
   "cell_type": "code",
   "execution_count": null,
   "id": "8755ccb4-da1c-4c40-9870-649814219f2c",
   "metadata": {},
   "outputs": [],
   "source": [
    "data.head()"
   ]
  },
  {
   "cell_type": "markdown",
   "id": "f103b781-0232-4200-bf7d-e53fe84c046f",
   "metadata": {},
   "source": [
    "# Sales and profit - customer segment"
   ]
  },
  {
   "cell_type": "code",
   "execution_count": null,
   "id": "7f6ac7b8-0fa4-45fb-9cfd-224c50ec2e2b",
   "metadata": {},
   "outputs": [],
   "source": [
    "sales_profit_by_segment = data.groupby('Segment').agg({'Sales': 'sum', 'Profit': 'sum'}).reset_index()\n",
    "\n",
    "color_palette = colors.qualitative.Pastel\n",
    "\n",
    "fig = go.Figure()\n",
    "fig.add_trace(go.Bar(x=sales_profit_by_segment['Segment'], \n",
    "                     y=sales_profit_by_segment['Sales'], \n",
    "                     name='Sales',\n",
    "                     marker_color=color_palette[0]))\n",
    "\n",
    "fig.add_trace(go.Bar(x=sales_profit_by_segment['Segment'], \n",
    "                     y=sales_profit_by_segment['Profit'], \n",
    "                     name='Profit',\n",
    "                     marker_color=color_palette[1]))\n",
    "\n",
    "fig.update_layout(title='Sales and Profit Analysis by Customer Segment',\n",
    "                  xaxis_title='Customer Segment', yaxis_title='Amount')\n",
    "\n",
    "fig.show()"
   ]
  },
  {
   "cell_type": "markdown",
   "id": "77c0539a-1c77-4e38-b2df-e1ac65e7a455",
   "metadata": {},
   "source": [
    "  # Sales to profit ratio"
   ]
  },
  {
   "cell_type": "code",
   "execution_count": null,
   "id": "037b6eff-2121-4790-9a3a-a5a637e83ea4",
   "metadata": {},
   "outputs": [],
   "source": [
    "sales_profit_by_segment = data.groupby('Segment').agg({'Sales': 'sum', 'Profit': 'sum'}).reset_index()\n",
    "sales_profit_by_segment['Sales_to_Profit_Ratio'] = sales_profit_by_segment['Sales'] / sales_profit_by_segment['Profit']\n",
    "print(sales_profit_by_segment[['Segment', 'Sales_to_Profit_Ratio']])"
   ]
  }
 ],
 "metadata": {
  "kernelspec": {
   "display_name": "Python 3 (ipykernel)",
   "language": "python",
   "name": "python3"
  },
  "language_info": {
   "codemirror_mode": {
    "name": "ipython",
    "version": 3
   },
   "file_extension": ".py",
   "mimetype": "text/x-python",
   "name": "python",
   "nbconvert_exporter": "python",
   "pygments_lexer": "ipython3",
   "version": "3.12.7"
  }
 },
 "nbformat": 4,
 "nbformat_minor": 5
}
